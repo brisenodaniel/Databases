{
 "cells": [
  {
   "cell_type": "markdown",
   "metadata": {},
   "source": [
    "# SQLite3\n",
    "- Very robust embedded relational database server\n",
    "- light weight implementation of a relational DBMS (~340Kb)\n",
    "    - incorporates most of the feature of an enterprise grade DBMS\n",
    "    - intended ofr embedded applications\n",
    "- Free\n",
    "    - open source\n",
    "- Used as the data manager in mobile applications\n",
    "    - iOS and Android\n",
    "- Databases are stored as files in OS\n",
    "# Why SQLIte 3\n",
    "- Whenever a use case exists when an application needs to save daga after it's done running\n",
    "    - photos, videos, contacts, etc.\n",
    "- Two basic ways of storing/retrieving data\n",
    "    - cloud/online\n",
    "    - Onboard the device\n",
    "# Motivation for SQLite3\n",
    "- Why not just store data in files for embedded platforms?\n",
    "- Extremely inefficient\n",
    "    - Read in the entiere file (db), insert, update, or remove a record, then rewrite the db back out disk.\n",
    "    - Must implement a solution for efficiently tracking the location of new, updated and deleted records\n",
    "- As the file grows in size, these types of actions become unscalable\n",
    "\n",
    "# Good use cases for SQLite\n",
    "- Embedded devices and internet of things\n",
    "    - Because an SQLite database requries no administration, ideal for:\n",
    "        - Use in cellphones, set-top boxes, televesions, game consoles, cameras, watches, thrmostats, automobiles, remote sensors, drones, medical devices , and robots\n",
    "- Application File Format\n",
    "    - SQLite is often used as the on-disk file format for desktop applications\n",
    "    - Many benefits to this approach, including:\n",
    "        - improved perfomrance, reduced cost and complexity\n",
    "- Websites\n",
    "    - Great as the database engine for most low to medium traffic websites (majority of websites today)\n",
    "    - ANy site that recieves fewer than 100K hits/day should work fine\n",
    "# Good use cases MySQL\n",
    "- Client/Server Applications\n",
    "    - Numerous client applications sending SQL to the same database over a network\n",
    "- High-volume websites\n",
    "    - Write-intesive websites or sites thatare clustered with multiple servers\n",
    "    - sites that recieve > 100K hits per day\n",
    "- Large Datasets\n",
    "    - SQLite database is limited in size to 140 Terabytes\n",
    "    - Although sounds liek a lot, enterprize grade RDMS support larger sizes\n",
    "# SQLite3 Data Types\n",
    "- SQLite uses a more general dynamic type system\n",
    "    - The __datatype__ of a value is associated with the value itself, not with its container\n",
    "- Types:\n",
    "    - NULL\n",
    "    - INTEGER: the value is a signed integers, stored in 1,2,3,4,6, or 8 bytes depending on the magnitude of the value\n",
    "    - REAL: an 8-byte floating point number\n",
    "    - TEXT: text sring, stored using the database encodint (UTF-8, UTF-16BE, or UTF-16LE)\n",
    "        - default max 1,000,000,000 chars"
   ]
  }
 ],
 "metadata": {
  "kernelspec": {
   "display_name": "Python 3",
   "language": "python",
   "name": "python3"
  },
  "language_info": {
   "codemirror_mode": {
    "name": "ipython",
    "version": 3
   },
   "file_extension": ".py",
   "mimetype": "text/x-python",
   "name": "python",
   "nbconvert_exporter": "python",
   "pygments_lexer": "ipython3",
   "version": "3.7.4"
  }
 },
 "nbformat": 4,
 "nbformat_minor": 4
}
