{
 "cells": [
  {
   "cell_type": "markdown",
   "metadata": {},
   "source": [
    "## What is a database?\n",
    "\n",
    "- A collection of information\n",
    "    - Managed by DBMS\n",
    "- DBMS is responsible for\n",
    "    - Allowing user to crete new databases\n",
    "    - Specify the schema for those databases\n",
    "    - Have the ability to query the data (SQL), modify data\n",
    "    - Support very large amounts of data\n",
    "    - Enable durability, recovery of the database\n",
    "    - Control access to the database, users/permissions\n",
    "    \n",
    "## Data Models\n",
    "- A data model is a collection of concepts for describing data\n",
    "    - The relational model of data is the most widely used model today\n",
    "        - Main Concept: the _relation_ - essentially, a table\n",
    "            - Organized in rows and columns\n",
    "- A schema is a description of a particular collection of data, using the given data model\n",
    "    - E.g. every _relation_ in a relational data model has a _schema_ describing the types, etc.\n",
    "    \n",
    "## Databases\n",
    "- Relation schema = relation name and attribute list.\n",
    "    - Why relations?\n",
    "        - They are simple\n",
    "    - Example\n",
    "        - Beers(name,manf) or Beers(name:string, manf:string)\n",
    "    - Database = collection of relations.\n",
    "    - Database schema = set of all relation schemas in the database\n",
    "    \n",
    "## Data independence\n",
    "- Concept: Applications do not need to worry about how the data is structured and stored\n",
    "- Logical data independence: protection from changes in the logical structure of the data\n",
    "- Physical data independence: protection from physical layout \n",
    "\n",
    "## Challenges with Many Users\n",
    "- Suppose that your CMS application serves 1000's of users or more, what are some challenges?\n",
    "    - Security: Different users, different roles\n",
    "    - Performance: Need to provide concurrent access\n",
    "        - Disk/SSD access is slow, DBMS hide the latency by doing more CPU work concurrently\n",
    "    - Conistency: Concurrency can lead to update problems\n",
    "        - DBMS allows user to write programs as if they were the only user\n",
    "## Transactions\n",
    "- A key concept is the transaction (TXN): an atomic sequence of db actions (reads/writes) \n",
    "    - Atomicity: An action either completes entierely or not at all"
   ]
  }
 ],
 "metadata": {
  "kernelspec": {
   "display_name": "Python 3",
   "language": "python",
   "name": "python3"
  },
  "language_info": {
   "codemirror_mode": {
    "name": "ipython",
    "version": 3
   },
   "file_extension": ".py",
   "mimetype": "text/x-python",
   "name": "python",
   "nbconvert_exporter": "python",
   "pygments_lexer": "ipython3",
   "version": "3.7.4"
  }
 },
 "nbformat": 4,
 "nbformat_minor": 4
}
