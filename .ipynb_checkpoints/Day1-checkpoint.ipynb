{
 "cells": [
  {
   "cell_type": "markdown",
   "metadata": {},
   "source": [
    "# Day One \n",
    "Download Jetbrain products:\n",
    "- Pycharm\n",
    "- DataGrip\n",
    "\n",
    "## Intro to Database Systems\n",
    "- How can we collect and store large amounts of data?\n",
    "    - By building tools and data structures to effeciently index and serve data\n",
    "- How can we efficiently query data?\n",
    "    - By compiling high-level declarative quereies into efficient low-level plans\n",
    "- How can we safely update data?\n",
    "    - By managing concurrent access to state as it is read and written\n",
    "- How do different databse systems anage design trade offs?\n",
    "    - e.g. at scale, in a distributed enviornment?\n",
    "How can I apply this knowledge?\n",
    "- Build almost any software application\n",
    "    - e.g., mobile cloud, consumer, enterpriese,analytics,machine learning\n",
    "    - Corollary: every application you use uses a database\n",
    "    - Bonus: every program consumes data (even if only the program text!)\n",
    "- Perfoming data analytics\n",
    "    - Buisness intelligence, data science, predictive odeling\n",
    "    - (Even if you're using Pandas, you're using relational algebra!)\n",
    "- Building data-intensive tools and applications\n",
    "    - Many core concepts power deep learning frameworks to self-driving cars\n",
    "The Relational model:\n",
    "- What is a DBMS?\n",
    "    - A large, integrated collection of data\n",
    "    - Models a real-world _enterpise_\n",
    "    - _Entities_ (e.g., Students, Courses)\n",
    "    - _Relationships_ (e.g. Rene is enrolled in 408)\n",
    "    - A Database Managment System (DBMS) is a piece of software designed to sotre and manage databases\n",
    "- A motivating, running example:\n",
    "    - Consider building a course management system (CMS):\n",
    "        - Entities:\n",
    "            - Students \n",
    "            - Courses\n",
    "            - Professors\n",
    "        - Relationships:\n",
    "            - Who takes what\n",
    "            - who teaches what"
   ]
  },
  {
   "cell_type": "code",
   "execution_count": null,
   "metadata": {},
   "outputs": [],
   "source": []
  }
 ],
 "metadata": {
  "kernelspec": {
   "display_name": "Python 3",
   "language": "python",
   "name": "python3"
  },
  "language_info": {
   "codemirror_mode": {
    "name": "ipython",
    "version": 3
   },
   "file_extension": ".py",
   "mimetype": "text/x-python",
   "name": "python",
   "nbconvert_exporter": "python",
   "pygments_lexer": "ipython3",
   "version": "3.7.4"
  }
 },
 "nbformat": 4,
 "nbformat_minor": 4
}
