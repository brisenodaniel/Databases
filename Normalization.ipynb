{
 "cells": [
  {
   "cell_type": "markdown",
   "metadata": {},
   "source": [
    "# What is normalization?\n",
    "- The process of efficienlty organizing data\n",
    "- Goals of normalization\n",
    "    - eliminate dplicates\n",
    "    - ensure that all data is stored in correct (related) tables\n",
    "    Eliminate unnecessary changes to database schema when a new record/data is added\n",
    "        - eliminates insertion, update and delete anomalies\n",
    "- Used to remove functional dependencies\n",
    "    - A relationshp between attributes within a single relation\n",
    "        -An attribute is functinoally dependent on another if we can use the value of one attribute to determine the value of another\n",
    "   \n",
    "# Normal Forms\n",
    "- There are 9 different types of normal forms\n",
    "    - First Normal Form (1NF)\n",
    "    - Second Normal Form (2NF)\n",
    "    - Third Normal Form (3NF)\n",
    "        - The majority of databases are designed in 3 NF\n",
    "        - Sufficient for most databse applications\n",
    "    - Exists another\n",
    "    \n",
    "## First nNormal Form (1NF)\n",
    "- The goal of 1NF is :\n",
    "    - There are no duplicate fields\n",
    "    - Each attribute (cell) should contain one value\n",
    "        - Atomic values\n",
    "    - Each column should contain valu \n",
    "    \n",
    "## Second Normal Form (2NF)\n",
    "- The goal of 2NF is:\n",
    "    - The table should be in 1NF\n",
    "    - Does not contain partial dependedncies\n",
    "    - All non-key fields depend on all components of the primary key\n",
    "        - This is guaranteed when the primary key is a single column\n",
    "    - Resolved the issue of inefficient stroage allocation that naturally occurs in 1NF\n",
    "\n",
    "## Third Normal Form (3NF)\n",
    "- The goal of 3NF is:\n",
    "    - No non-key fields should depend on one another\n",
    "        - All non-key fields depend only on primary key\n",
    "        - should not have transitive dependencies\n",
    "    - Table must be in 2NF to be put in 3NF"
   ]
  }
 ],
 "metadata": {
  "kernelspec": {
   "display_name": "Python 3",
   "language": "python",
   "name": "python3"
  },
  "language_info": {
   "codemirror_mode": {
    "name": "ipython",
    "version": 3
   },
   "file_extension": ".py",
   "mimetype": "text/x-python",
   "name": "python",
   "nbconvert_exporter": "python",
   "pygments_lexer": "ipython3",
   "version": "3.7.4"
  }
 },
 "nbformat": 4,
 "nbformat_minor": 2
}
