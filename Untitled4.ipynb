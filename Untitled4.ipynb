{
 "cells": [
  {
   "cell_type": "markdown",
   "metadata": {},
   "source": [
    "# What is an \"Algebra\"\n",
    "- Mathematical sysem consisting of:\n",
    "    - Operands --- Variables or values from which new values can be constructed\n",
    "    - Operators --- sybmols denoting procedures that construct new values from given values\n",
    "- What is Relational Algebra\n",
    "    - An Algebra whose operands are relations or variables that represent relations\n",
    "    - Operators are designed to do the most common thins that we need to do with relations in a database\n",
    "        - The results is an algebra that can be used as a _query language_ for relations.\n",
    "- Core Relational Algebra\n",
    "    - Selection: picking certain rows\n",
    "    - projection: picking certain columns\n",
    "    - Products and joins: copositions of relations\n",
    "    - Renaming of relations and attributes\n",
    "- Selection\n",
    "    - $R_1 := \\sigma_c(R2)$\n",
    "    - $C$ is a condition (as in \"if\" statments) that refers to attributes of $R_2$\n",
    "    - $R_1$ is all those tuples of $R_2$ that satisfy $C$\n",
    "- Projection\n",
    "    - $R_1 := \\pi_L(R_2)$\n",
    "        - $L$ is a list of attributes from the schema of $R_2$\n",
    "        - $R_1$ is constructed by looking at each tuple of $R_2$, extracting the attributes on $L$"
   ]
  },
  {
   "cell_type": "code",
   "execution_count": null,
   "metadata": {},
   "outputs": [],
   "source": []
  }
 ],
 "metadata": {
  "kernelspec": {
   "display_name": "Python 3",
   "language": "python",
   "name": "python3"
  },
  "language_info": {
   "codemirror_mode": {
    "name": "ipython",
    "version": 3
   },
   "file_extension": ".py",
   "mimetype": "text/x-python",
   "name": "python",
   "nbconvert_exporter": "python",
   "pygments_lexer": "ipython3",
   "version": "3.7.4"
  }
 },
 "nbformat": 4,
 "nbformat_minor": 4
}
